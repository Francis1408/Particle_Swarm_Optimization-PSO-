{
 "cells": [
  {
   "cell_type": "code",
   "execution_count": 2,
   "id": "597a403b",
   "metadata": {},
   "outputs": [],
   "source": [
    "# Declarando Bibliotecas\n",
    "import random\n",
    "from itertools import combinations\n",
    "import time\n",
    "import matplotlib.pyplot as plt\n",
    "import numpy as np\n",
    "import matplotlib.pyplot as plt\n",
    "import matplotlib.animation as animation\n",
    "from matplotlib.animation import FFMpegWriter\n"
   ]
  },
  {
   "cell_type": "markdown",
   "id": "62dc4c70",
   "metadata": {},
   "source": [
    "A função **Rastrigin** é dada definida sendo:\n",
    "\n",
    "\n",
    "$$\n",
    "f(\\mathbf{x}) = An + \\sum_{i=1}^{n} \\left[ x_i^2 - A \\cos(2\\pi x_i) \\right]\n",
    "\n",
    "$$\n",
    "where A = 10 and  x_i in [-5.12, 5.12] ."
   ]
  },
  {
   "cell_type": "code",
   "execution_count": 3,
   "id": "40e864e5",
   "metadata": {},
   "outputs": [],
   "source": [
    "# Função Rastrigin\n",
    "\"\"\"\n",
    "x : array com os valores de x1 e x2\n",
    "A: constante = 10\n",
    "\"\"\"\n",
    "def rastrigin(x, A = 10):\n",
    "\n",
    "    x = np.array(x)\n",
    "    n = len(x)\n",
    "    return A*n + np.sum(x**2 - A * np.cos(2 * np.pi * x))"
   ]
  },
  {
   "cell_type": "markdown",
   "id": "c63f5826",
   "metadata": {},
   "source": [
    "### Parâmetros Globais"
   ]
  },
  {
   "cell_type": "code",
   "execution_count": 31,
   "id": "84d5e671",
   "metadata": {},
   "outputs": [],
   "source": [
    "# Parâmetros globais\n",
    "X_LIMIT = 5.12\n",
    "POPULATION_SIZE= 30\n",
    "DIMENSIONS = 2\n",
    "W = 1\n",
    "W_MIN = 0.4\n",
    "W_MAX = 0.9\n",
    "C_1 = 2\n",
    "C_2 = 2"
   ]
  },
  {
   "cell_type": "markdown",
   "id": "12ae9d97",
   "metadata": {},
   "source": [
    "### Gerando a população inicial"
   ]
  },
  {
   "cell_type": "markdown",
   "id": "06d41f33",
   "metadata": {},
   "source": [
    "Iremos gerar uma população inicial de tamanha POPULATION_SIZE. Cada indivíduo será um ponto no espaço 2D com valores (x1, x2) aleatórios, na faixa entre -5.12 <= x <= 5.12"
   ]
  },
  {
   "cell_type": "code",
   "execution_count": null,
   "id": "e466887a",
   "metadata": {},
   "outputs": [],
   "source": [
    "# Função que gera a população incial\n",
    "\n",
    "def generate_population():\n",
    "    # Return an array with 2D elements\n",
    "    return np.random.uniform(-1*X_LIMIT, X_LIMIT, (POPULATION_SIZE, DIMENSIONS))"
   ]
  },
  {
   "cell_type": "code",
   "execution_count": 9,
   "id": "b2dd3162",
   "metadata": {},
   "outputs": [
    {
     "name": "stdout",
     "output_type": "stream",
     "text": [
      "Indivíduo 1 : [0.34687401 3.04184404]\n",
      "\n",
      "Indivíduo 2 : [2.74077066 1.98334212]\n",
      "\n",
      "Indivíduo 3 : [-2.49879653  2.54951793]\n",
      "\n",
      "Indivíduo 4 : [0.96762815 0.08174652]\n",
      "\n",
      "Indivíduo 5 : [4.18299439 3.3542682 ]\n",
      "\n",
      "Indivíduo 6 : [4.43045242 0.43438007]\n",
      "\n",
      "Indivíduo 7 : [-3.74051653  4.37379651]\n",
      "\n",
      "Indivíduo 8 : [-2.34691961 -1.01138704]\n",
      "\n",
      "Indivíduo 9 : [ 2.45098006 -4.12568328]\n",
      "\n",
      "Indivíduo 10 : [3.07400281 2.45158819]\n",
      "\n",
      "Indivíduo 11 : [-0.02831197  1.13638438]\n",
      "\n",
      "Indivíduo 12 : [-4.02955491 -3.13144003]\n",
      "\n",
      "Indivíduo 13 : [0.07866451 1.81835118]\n",
      "\n",
      "Indivíduo 14 : [2.96778582 2.91094756]\n",
      "\n",
      "Indivíduo 15 : [-2.68782524 -3.4421927 ]\n",
      "\n",
      "Indivíduo 16 : [-2.16232051 -4.9273716 ]\n",
      "\n",
      "Indivíduo 17 : [ 2.14626459 -3.0091134 ]\n",
      "\n",
      "Indivíduo 18 : [4.31581037 4.3985684 ]\n",
      "\n",
      "Indivíduo 19 : [-3.13802483 -3.83012471]\n",
      "\n",
      "Indivíduo 20 : [-4.53377448  0.20877226]\n",
      "\n",
      "Indivíduo 21 : [3.05901981 2.67195457]\n",
      "\n",
      "Indivíduo 22 : [ 0.53930014 -1.16864527]\n",
      "\n",
      "Indivíduo 23 : [ 3.97640437 -1.37659079]\n",
      "\n",
      "Indivíduo 24 : [4.11695224 4.0588992 ]\n",
      "\n",
      "Indivíduo 25 : [ 1.73485675 -3.40648942]\n",
      "\n",
      "Indivíduo 26 : [-4.70474308 -4.55117491]\n",
      "\n",
      "Indivíduo 27 : [ 0.21664059 -4.75094825]\n",
      "\n",
      "Indivíduo 28 : [-0.80735527  4.67648872]\n",
      "\n",
      "Indivíduo 29 : [ 1.70525655 -0.3116789 ]\n",
      "\n",
      "Indivíduo 30 : [3.35426135 3.33013892]\n",
      "\n"
     ]
    }
   ],
   "source": [
    "# Célula para realização de testes\n",
    "population = generate_population()\n",
    "\n",
    "for i, individual in enumerate(population):\n",
    "    print(f'Indivíduo {i + 1} : {individual}\\n')"
   ]
  },
  {
   "cell_type": "markdown",
   "id": "48d3dd2b",
   "metadata": {},
   "source": [
    "### Avaliando o Fitness"
   ]
  },
  {
   "cell_type": "markdown",
   "id": "c19d62c7",
   "metadata": {},
   "source": [
    "Uma vez que a função Rastrigin procura o **mínimo** global, então podemos aplicar a sua função para cada partícula e inverter o valor encontrado em y"
   ]
  },
  {
   "cell_type": "code",
   "execution_count": 14,
   "id": "77c0e0af",
   "metadata": {},
   "outputs": [],
   "source": [
    "# Função para retornar a população com o fitness de cada indivíduo\n",
    "\n",
    "def evaluate_fitness(particle):\n",
    "\n",
    "    # Inverte o valor do encontrado\n",
    "    fitness = -1 * rastrigin(particle)\n",
    "\n",
    "    # Retorna o valor de fitness encontrado\n",
    "    return fitness\n",
    "    "
   ]
  },
  {
   "cell_type": "code",
   "execution_count": 23,
   "id": "99a892f8",
   "metadata": {},
   "outputs": [
    {
     "name": "stdout",
     "output_type": "stream",
     "text": [
      "Indivíduo 1 : [0.34687401 3.04184404]\n",
      "Fitness = -25.434597156776064\n",
      "\n",
      "Indivíduo 2 : [2.74077066 1.98334212]\n",
      "Fitness = -22.079764739659524\n",
      "\n",
      "Indivíduo 3 : [-2.49879653  2.54951793]\n",
      "Fitness = -52.263621337860044\n",
      "\n",
      "Indivíduo 4 : [0.96762815 0.08174652]\n",
      "Fitness = -2.439455001851705\n",
      "\n",
      "Indivíduo 5 : [4.18299439 3.3542682 ]\n",
      "Fitness = -50.754418767528605\n",
      "\n",
      "Indivíduo 6 : [4.43045242 0.43438007]\n",
      "Fitness = -58.03993902678229\n",
      "\n",
      "Indivíduo 7 : [-3.74051653  4.37379651]\n",
      "Fitness = -60.7344679969446\n",
      "\n",
      "Indivíduo 8 : [-2.34691961 -1.01138704]\n",
      "Fitness = -22.276698145288158\n",
      "\n",
      "Indivíduo 9 : [ 2.45098006 -4.12568328]\n",
      "Fitness = -45.51733388797051\n",
      "\n",
      "Indivíduo 10 : [3.07400281 2.45158819]\n",
      "Fitness = -36.06237029875482\n",
      "\n",
      "Indivíduo 11 : [-0.02831197  1.13638438]\n",
      "Fitness = -4.902355029748275\n",
      "\n",
      "Indivíduo 12 : [-4.02955491 -3.13144003]\n",
      "Fitness = -29.435920421640297\n",
      "\n",
      "Indivíduo 13 : [0.07866451 1.81835118]\n",
      "Fitness = -10.345579527509393\n",
      "\n",
      "Indivíduo 14 : [2.96778582 2.91094756]\n",
      "Fitness = -19.010483465775927\n",
      "\n",
      "Indivíduo 15 : [-2.68782524 -3.4421927 ]\n",
      "Fitness = -52.22863956628732\n",
      "\n",
      "Indivíduo 16 : [-2.16232051 -4.9273716 ]\n",
      "Fitness = -34.74329898694885\n",
      "\n",
      "Indivíduo 17 : [ 2.14626459 -3.0091134 ]\n",
      "Fitness = -17.611509971795996\n",
      "\n",
      "Indivíduo 18 : [4.31581037 4.3985684 ]\n",
      "Fitness = -70.02875155461194\n",
      "\n",
      "Indivíduo 19 : [-3.13802483 -3.83012471]\n",
      "Fitness = -33.22328340643358\n",
      "\n",
      "Indivíduo 20 : [-4.53377448  0.20877226]\n",
      "Fitness = -47.812830506898976\n",
      "\n",
      "Indivíduo 21 : [3.05901981 2.67195457]\n",
      "Fitness = -31.8862407906974\n",
      "\n",
      "Indivíduo 22 : [ 0.53930014 -1.16864527]\n",
      "Fitness = -26.461297614226577\n",
      "\n",
      "Indivíduo 23 : [ 3.97640437 -1.37659079]\n",
      "Fitness = -34.9578817592518\n",
      "\n",
      "Indivíduo 24 : [4.11695224 4.0588992 ]\n",
      "Fitness = -36.68152443672271\n",
      "\n",
      "Indivíduo 25 : [ 1.73485675 -3.40648942]\n",
      "Fitness = -43.88698580100119\n",
      "\n",
      "Indivíduo 26 : [-4.70474308 -4.55117491]\n",
      "Fitness = -75.1407038320462\n",
      "\n",
      "Indivíduo 27 : [ 0.21664059 -4.75094825]\n",
      "Fitness = -40.47814303486499\n",
      "\n",
      "Indivíduo 28 : [-0.80735527  4.67648872]\n",
      "Fitness = -43.45149239277751\n",
      "\n",
      "Indivíduo 29 : [ 1.70525655 -0.3116789 ]\n",
      "Fitness = -29.558591133114454\n",
      "\n",
      "Indivíduo 30 : [3.35426135 3.33013892]\n",
      "Fitness = -53.258411528879705\n",
      "\n"
     ]
    }
   ],
   "source": [
    "# Célula para a realização de testes\n",
    "\n",
    "evaluated_individuals = []\n",
    "\n",
    "for i, individual in enumerate(population):\n",
    "\n",
    "    fitness = evaluate_fitness(individual)\n",
    "    evaluated_individual = [individual, fitness]\n",
    "    evaluated_individuals.append(evaluated_individual)\n",
    "    print(f'Indivíduo {i + 1} : {individual}\\nFitness = {fitness}\\n')"
   ]
  },
  {
   "cell_type": "markdown",
   "id": "4570eed0",
   "metadata": {},
   "source": [
    "### Encontrar melhores Globais e Locais\n",
    "\n",
    "\n",
    "- Para cada partícula, comparamos seu fitness atual com o da lista de melhores e salvamos o melhor\n",
    "- Analisamos o melhor fitness de cada partícula e encontramos um fitness global (melhor de todos)"
   ]
  },
  {
   "cell_type": "markdown",
   "id": "75368e0f",
   "metadata": {},
   "source": [
    "#### Melhor local"
   ]
  },
  {
   "cell_type": "code",
   "execution_count": 24,
   "id": "8e9e0e3c",
   "metadata": {},
   "outputs": [],
   "source": [
    "# Função para encontrar os melhores locais\n",
    "\n",
    "def find_best_local_fitness(current_best, previous_best):\n",
    "        \n",
    "        # Compara e retorna o indivíduo com melhor fitness\n",
    "         return current_best if current_best[1] > previous_best[1] else previous_best\n",
    "    "
   ]
  },
  {
   "cell_type": "markdown",
   "id": "43567fed",
   "metadata": {},
   "source": [
    "#### Melhor global"
   ]
  },
  {
   "cell_type": "code",
   "execution_count": 28,
   "id": "45d63b5c",
   "metadata": {},
   "outputs": [],
   "source": [
    "# Função para encontrar o melhor global e seu indice\n",
    "\n",
    "def find_best_global_fitness(local_bests):\n",
    "\n",
    "    # Extrai o fitnesses dos melhores locais\n",
    "    fitness = [ind[1] for ind in local_bests]\n",
    "    \n",
    "    # Encontra o melhor fitness entre todos os melhores fitness locais\n",
    "    best_index = np.argmax(fitness) # Encontra o indice do melhor\n",
    "    # Retorna o mehlor\n",
    "    return local_bests[best_index]"
   ]
  },
  {
   "cell_type": "code",
   "execution_count": null,
   "id": "d8711fbb",
   "metadata": {},
   "outputs": [
    {
     "name": "stdout",
     "output_type": "stream",
     "text": [
      "Melhor fitness global: -2.439455001851705\n",
      "Melhor posição global: [0.96762815 0.08174652]\n"
     ]
    }
   ],
   "source": [
    "# Célula para a realização de testes\n",
    "\n",
    "# Encontra o melhor global\n",
    "global_best = find_best_global_fitness(evaluated_individuals)\n",
    "print(f'Melhor fitness global: {global_best[1]}\\nMelhor posição global: {global_best[0]}')\n"
   ]
  },
  {
   "cell_type": "markdown",
   "id": "bb32fb3f",
   "metadata": {},
   "source": [
    "### Atualização da posição e velocidade\n",
    "\n",
    "Cada indivíduo terá sua posição atualizada com base na seguinte fórmula:\n",
    "\n",
    "$$\n",
    "\\mathbf{x}_i^{k+1} = \\mathbf{x}_i^{k} + \\mathbf{v}_i^{k+1}\n",
    "$$\n",
    "\n",
    "Onde vi é a velocidade do inidivíduo, definido por:\n",
    "\n",
    "$$\n",
    "\\mathbf{v}_i^{k+1} = w\\mathbf{v}_i^{k} + c_1 r_1 \\left( \\mathbf{p}_i^{k} - \\mathbf{x}_i^{k} \\right) + c_2 r_2 \\left( \\mathbf{p}_g^{k} - \\mathbf{x}_i^{k} \\right)\n",
    "$$\n",
    "\n",
    "Onde:\n",
    "\n",
    "w = peso de inércia\n",
    "\n",
    "c1, c2 = coeficientes cognitivos e sociais\n",
    "\n",
    "r1, r2 = números aleátorios entre [0, 1]\n",
    "\n",
    "O peso de inércia será atualizado por iteração com base na seguinte fórmula:\n",
    "\n",
    "$$\n",
    "W^{k+1} = W_{\\text{max}} - k \\left( \\frac{W_{\\text{max}} - W_{\\text{min}}}{k_{\\text{max}}} \\right)\n",
    "$$"
   ]
  },
  {
   "cell_type": "markdown",
   "id": "579b6ac7",
   "metadata": {},
   "source": [
    "#### Atualização da velocidade"
   ]
  },
  {
   "cell_type": "code",
   "execution_count": 32,
   "id": "776c85aa",
   "metadata": {},
   "outputs": [],
   "source": [
    "# Função para atualizar a velocidade\n",
    "\n",
    "def update_individual_speed(individual_pos, best_global_pos, best_local_pos, previous_speed):\n",
    "\n",
    "    # Gera um número aleatório para valores de r1 e r2\n",
    "    r1 = np.random.uniform(0, 1, DIMENSIONS)\n",
    "    r2 = np.random.uniform(0, 1, DIMENSIONS)\n",
    "\n",
    "    # Atualiza cada parte da fórmula com base nos valores de cada array passado como argumento\n",
    "    # Inercia W\n",
    "    inertia = W * np.array(previous_speed)\n",
    "    # Parte Cognitiva\n",
    "    cognitive = C_1 * r1 * (np.array(best_local_pos) - np.array(individual_pos))\n",
    "    # Parte Social\n",
    "    social = C_2 * r2 * (np.array(best_global_pos) - np.array(individual_pos))\n",
    "\n",
    "    # Realiza a soma de todas as partes e retorna uma lista com a velocidade em cada eixo\n",
    "    return (inertia + cognitive + social).tolist()"
   ]
  },
  {
   "cell_type": "markdown",
   "id": "9c13ee5d",
   "metadata": {},
   "source": [
    "#### Atualização da posição"
   ]
  },
  {
   "cell_type": "code",
   "execution_count": 33,
   "id": "3c34d555",
   "metadata": {},
   "outputs": [],
   "source": [
    "def update_individual_position(individual_speed, individual_pos):\n",
    "\n",
    "    # Atualiza a posição da partícula com base na velocidade calculada\n",
    "    position = np.array(individual_pos) + np.array(individual_speed)\n",
    "\n",
    "    # Clipa posição entre os limites inferiores e superiores de X\n",
    "    position = np.clip(position, -1*X_LIMIT, X_LIMIT)\n",
    "\n",
    "    return position.tolist()\n",
    "\n"
   ]
  },
  {
   "cell_type": "code",
   "execution_count": null,
   "id": "39f25f31",
   "metadata": {},
   "outputs": [],
   "source": []
  }
 ],
 "metadata": {
  "kernelspec": {
   "display_name": "Python 3",
   "language": "python",
   "name": "python3"
  },
  "language_info": {
   "codemirror_mode": {
    "name": "ipython",
    "version": 3
   },
   "file_extension": ".py",
   "mimetype": "text/x-python",
   "name": "python",
   "nbconvert_exporter": "python",
   "pygments_lexer": "ipython3",
   "version": "3.12.3"
  }
 },
 "nbformat": 4,
 "nbformat_minor": 5
}
