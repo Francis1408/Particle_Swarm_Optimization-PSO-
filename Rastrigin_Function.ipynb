{
 "cells": [
  {
   "cell_type": "code",
   "execution_count": 2,
   "id": "597a403b",
   "metadata": {},
   "outputs": [],
   "source": [
    "# Declarando Bibliotecas\n",
    "import random\n",
    "from itertools import combinations\n",
    "import time\n",
    "import matplotlib.pyplot as plt\n",
    "import numpy as np\n",
    "import matplotlib.pyplot as plt\n",
    "import matplotlib.animation as animation\n",
    "from matplotlib.animation import FFMpegWriter\n"
   ]
  },
  {
   "cell_type": "markdown",
   "id": "62dc4c70",
   "metadata": {},
   "source": [
    "A função **Rastrigin** é dada definida sendo:\n",
    "\n",
    "\n",
    "$$\n",
    "f(\\mathbf{x}) = An + \\sum_{i=1}^{n} \\left[ x_i^2 - A \\cos(2\\pi x_i) \\right]\n",
    "\n",
    "$$\n",
    "where A = 10 and  x_i in [-5.12, 5.12] ."
   ]
  },
  {
   "cell_type": "code",
   "execution_count": 3,
   "id": "40e864e5",
   "metadata": {},
   "outputs": [],
   "source": [
    "# Função Rastrigin\n",
    "\"\"\"\n",
    "x : array com os valores de x1 e x2\n",
    "A: constante = 10\n",
    "\"\"\"\n",
    "def rastrigin(x, A = 10):\n",
    "\n",
    "    x = np.array(x)\n",
    "    n = len(x)\n",
    "    return A*n + np.sum(x**2 - A * np.cos(2 * np.pi * x))"
   ]
  },
  {
   "cell_type": "markdown",
   "id": "c63f5826",
   "metadata": {},
   "source": [
    "### Parâmetros Globais"
   ]
  },
  {
   "cell_type": "code",
   "execution_count": 6,
   "id": "84d5e671",
   "metadata": {},
   "outputs": [],
   "source": [
    "# Parâmetros globais\n",
    "X_LIMIT = 5.12\n",
    "POPULATION_SIZE= 30\n",
    "DIMENSIONS = 2"
   ]
  },
  {
   "cell_type": "markdown",
   "id": "12ae9d97",
   "metadata": {},
   "source": [
    "### Gerando a população inicial"
   ]
  },
  {
   "cell_type": "markdown",
   "id": "06d41f33",
   "metadata": {},
   "source": [
    "Iremos gerar uma população inicial de tamanha POPULATION_SIZE. Cada indivíduo será um ponto no espaço 2D com valores (x1, x2) aleatórios, na faixa entre -5.12 <= x <= 5.12"
   ]
  },
  {
   "cell_type": "code",
   "execution_count": null,
   "id": "e466887a",
   "metadata": {},
   "outputs": [],
   "source": [
    "# Função que gera a população incial\n",
    "\n",
    "def generate_population():\n",
    "    # Return an array with 2D elements\n",
    "    return np.random.uniform(-1*X_LIMIT, X_LIMIT, (POPULATION_SIZE, DIMENSIONS))"
   ]
  },
  {
   "cell_type": "code",
   "execution_count": null,
   "id": "b2dd3162",
   "metadata": {},
   "outputs": [],
   "source": [
    "# Célula para realização de testes\n",
    "population = generate_population()\n",
    "\n",
    "for i, individual in population:\n",
    "    print(f'Indivíduo {i + 1}: {individual}\\n')"
   ]
  },
  {
   "cell_type": "markdown",
   "id": "48d3dd2b",
   "metadata": {},
   "source": []
  }
 ],
 "metadata": {
  "kernelspec": {
   "display_name": "Python 3",
   "language": "python",
   "name": "python3"
  },
  "language_info": {
   "codemirror_mode": {
    "name": "ipython",
    "version": 3
   },
   "file_extension": ".py",
   "mimetype": "text/x-python",
   "name": "python",
   "nbconvert_exporter": "python",
   "pygments_lexer": "ipython3",
   "version": "3.12.3"
  }
 },
 "nbformat": 4,
 "nbformat_minor": 5
}
