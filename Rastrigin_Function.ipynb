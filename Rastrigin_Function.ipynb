{
 "cells": [
  {
   "cell_type": "code",
   "execution_count": 2,
   "id": "597a403b",
   "metadata": {},
   "outputs": [],
   "source": [
    "# Declarando Bibliotecas\n",
    "import random\n",
    "from itertools import combinations\n",
    "import time\n",
    "import matplotlib.pyplot as plt\n",
    "import numpy as np\n",
    "import matplotlib.pyplot as plt\n",
    "import matplotlib.animation as animation\n",
    "from matplotlib.animation import FFMpegWriter\n"
   ]
  },
  {
   "cell_type": "markdown",
   "id": "62dc4c70",
   "metadata": {},
   "source": [
    "A função **Rastrigin** é dada definida sendo:\n",
    "\n",
    "\n",
    "$$\n",
    "f(\\mathbf{x}) = An + \\sum_{i=1}^{n} \\left[ x_i^2 - A \\cos(2\\pi x_i) \\right]\n",
    "\n",
    "$$\n",
    "where A = 10 and  x_i in [-5.12, 5.12] ."
   ]
  },
  {
   "cell_type": "code",
   "execution_count": 3,
   "id": "40e864e5",
   "metadata": {},
   "outputs": [],
   "source": [
    "# Função Rastrigin\n",
    "\"\"\"\n",
    "x : array com os valores de x1 e x2\n",
    "A: constante = 10\n",
    "\"\"\"\n",
    "def rastrigin(x, A = 10):\n",
    "\n",
    "    x = np.array(x)\n",
    "    n = len(x)\n",
    "    return A*n + np.sum(x**2 - A * np.cos(2 * np.pi * x))"
   ]
  },
  {
   "cell_type": "markdown",
   "id": "c63f5826",
   "metadata": {},
   "source": [
    "### Parâmetros Globais"
   ]
  },
  {
   "cell_type": "code",
   "execution_count": 6,
   "id": "84d5e671",
   "metadata": {},
   "outputs": [],
   "source": [
    "# Parâmetros globais\n",
    "X_LIMIT = 5.12\n",
    "POPULATION_SIZE= 30\n",
    "DIMENSIONS = 2"
   ]
  },
  {
   "cell_type": "markdown",
   "id": "12ae9d97",
   "metadata": {},
   "source": [
    "### Gerando a população inicial"
   ]
  },
  {
   "cell_type": "markdown",
   "id": "06d41f33",
   "metadata": {},
   "source": [
    "Iremos gerar uma população inicial de tamanha POPULATION_SIZE. Cada indivíduo será um ponto no espaço 2D com valores (x1, x2) aleatórios, na faixa entre -5.12 <= x <= 5.12"
   ]
  },
  {
   "cell_type": "code",
   "execution_count": null,
   "id": "e466887a",
   "metadata": {},
   "outputs": [],
   "source": [
    "# Função que gera a população incial\n",
    "\n",
    "def generate_population():\n",
    "    # Return an array with 2D elements\n",
    "    return np.random.uniform(-1*X_LIMIT, X_LIMIT, (POPULATION_SIZE, DIMENSIONS))"
   ]
  },
  {
   "cell_type": "code",
   "execution_count": 9,
   "id": "b2dd3162",
   "metadata": {},
   "outputs": [
    {
     "name": "stdout",
     "output_type": "stream",
     "text": [
      "Indivíduo 1 : [0.34687401 3.04184404]\n",
      "\n",
      "Indivíduo 2 : [2.74077066 1.98334212]\n",
      "\n",
      "Indivíduo 3 : [-2.49879653  2.54951793]\n",
      "\n",
      "Indivíduo 4 : [0.96762815 0.08174652]\n",
      "\n",
      "Indivíduo 5 : [4.18299439 3.3542682 ]\n",
      "\n",
      "Indivíduo 6 : [4.43045242 0.43438007]\n",
      "\n",
      "Indivíduo 7 : [-3.74051653  4.37379651]\n",
      "\n",
      "Indivíduo 8 : [-2.34691961 -1.01138704]\n",
      "\n",
      "Indivíduo 9 : [ 2.45098006 -4.12568328]\n",
      "\n",
      "Indivíduo 10 : [3.07400281 2.45158819]\n",
      "\n",
      "Indivíduo 11 : [-0.02831197  1.13638438]\n",
      "\n",
      "Indivíduo 12 : [-4.02955491 -3.13144003]\n",
      "\n",
      "Indivíduo 13 : [0.07866451 1.81835118]\n",
      "\n",
      "Indivíduo 14 : [2.96778582 2.91094756]\n",
      "\n",
      "Indivíduo 15 : [-2.68782524 -3.4421927 ]\n",
      "\n",
      "Indivíduo 16 : [-2.16232051 -4.9273716 ]\n",
      "\n",
      "Indivíduo 17 : [ 2.14626459 -3.0091134 ]\n",
      "\n",
      "Indivíduo 18 : [4.31581037 4.3985684 ]\n",
      "\n",
      "Indivíduo 19 : [-3.13802483 -3.83012471]\n",
      "\n",
      "Indivíduo 20 : [-4.53377448  0.20877226]\n",
      "\n",
      "Indivíduo 21 : [3.05901981 2.67195457]\n",
      "\n",
      "Indivíduo 22 : [ 0.53930014 -1.16864527]\n",
      "\n",
      "Indivíduo 23 : [ 3.97640437 -1.37659079]\n",
      "\n",
      "Indivíduo 24 : [4.11695224 4.0588992 ]\n",
      "\n",
      "Indivíduo 25 : [ 1.73485675 -3.40648942]\n",
      "\n",
      "Indivíduo 26 : [-4.70474308 -4.55117491]\n",
      "\n",
      "Indivíduo 27 : [ 0.21664059 -4.75094825]\n",
      "\n",
      "Indivíduo 28 : [-0.80735527  4.67648872]\n",
      "\n",
      "Indivíduo 29 : [ 1.70525655 -0.3116789 ]\n",
      "\n",
      "Indivíduo 30 : [3.35426135 3.33013892]\n",
      "\n"
     ]
    }
   ],
   "source": [
    "# Célula para realização de testes\n",
    "population = generate_population()\n",
    "\n",
    "for i, individual in enumerate(population):\n",
    "    print(f'Indivíduo {i + 1} : {individual}\\n')"
   ]
  },
  {
   "cell_type": "markdown",
   "id": "48d3dd2b",
   "metadata": {},
   "source": [
    "### Avaliando o Fitness"
   ]
  },
  {
   "cell_type": "markdown",
   "id": "c19d62c7",
   "metadata": {},
   "source": [
    "Uma vez que a função Rastrigin procura o **mínimo** global, então podemos aplicar a sua função para cada partícula e inverter o valor encontrado em y"
   ]
  },
  {
   "cell_type": "code",
   "execution_count": null,
   "id": "77c0e0af",
   "metadata": {},
   "outputs": [],
   "source": [
    "# Função para retornar a população com o fitness de cada indivíduo\n",
    "\n",
    "def evaluate_fitness(population):\n",
    "\n",
    "    # Lista para armazenar a população avaliada\n",
    "    evaluated_population = []\n",
    "\n",
    "    for particle in population:\n",
    "        # Inverte o valor do encontrado\n",
    "        fitness = -1 * rastrigin(particle)\n",
    "\n",
    "        # Monta uma lista com a particula e seu fitness\n",
    "        evaluated_particle = [particle, fitness]\n",
    "        # Salva na lista final\n",
    "        evaluated_population.append(evaluated_particle)\n",
    "\n",
    "    # Retorna a lista final\n",
    "    return evaluated_population\n",
    "    "
   ]
  },
  {
   "cell_type": "markdown",
   "id": "4570eed0",
   "metadata": {},
   "source": []
  }
 ],
 "metadata": {
  "kernelspec": {
   "display_name": "Python 3",
   "language": "python",
   "name": "python3"
  },
  "language_info": {
   "codemirror_mode": {
    "name": "ipython",
    "version": 3
   },
   "file_extension": ".py",
   "mimetype": "text/x-python",
   "name": "python",
   "nbconvert_exporter": "python",
   "pygments_lexer": "ipython3",
   "version": "3.12.3"
  }
 },
 "nbformat": 4,
 "nbformat_minor": 5
}
